{
  "nbformat": 4,
  "nbformat_minor": 0,
  "metadata": {
    "colab": {
      "provenance": []
    },
    "kernelspec": {
      "name": "python3",
      "display_name": "Python 3"
    },
    "language_info": {
      "name": "python"
    }
  },
  "cells": [
    {
      "cell_type": "code",
      "execution_count": 1,
      "metadata": {
        "colab": {
          "base_uri": "https://localhost:8080/",
          "height": 380
        },
        "id": "ZCY_EFkuDizo",
        "outputId": "c45ca530-fd8a-4054-c9b6-cb77161b9ab3"
      },
      "outputs": [
        {
          "output_type": "execute_result",
          "data": {
            "text/html": [
              "\n",
              "<style>\n",
              "  #altair-viz-5553f9aa4d434940a5f95f9727729fbd.vega-embed {\n",
              "    width: 100%;\n",
              "    display: flex;\n",
              "  }\n",
              "\n",
              "  #altair-viz-5553f9aa4d434940a5f95f9727729fbd.vega-embed details,\n",
              "  #altair-viz-5553f9aa4d434940a5f95f9727729fbd.vega-embed details summary {\n",
              "    position: relative;\n",
              "  }\n",
              "</style>\n",
              "<div id=\"altair-viz-5553f9aa4d434940a5f95f9727729fbd\"></div>\n",
              "<script type=\"text/javascript\">\n",
              "  var VEGA_DEBUG = (typeof VEGA_DEBUG == \"undefined\") ? {} : VEGA_DEBUG;\n",
              "  (function(spec, embedOpt){\n",
              "    let outputDiv = document.currentScript.previousElementSibling;\n",
              "    if (outputDiv.id !== \"altair-viz-5553f9aa4d434940a5f95f9727729fbd\") {\n",
              "      outputDiv = document.getElementById(\"altair-viz-5553f9aa4d434940a5f95f9727729fbd\");\n",
              "    }\n",
              "\n",
              "    const paths = {\n",
              "      \"vega\": \"https://cdn.jsdelivr.net/npm/vega@5?noext\",\n",
              "      \"vega-lib\": \"https://cdn.jsdelivr.net/npm/vega-lib?noext\",\n",
              "      \"vega-lite\": \"https://cdn.jsdelivr.net/npm/vega-lite@5.20.1?noext\",\n",
              "      \"vega-embed\": \"https://cdn.jsdelivr.net/npm/vega-embed@6?noext\",\n",
              "    };\n",
              "\n",
              "    function maybeLoadScript(lib, version) {\n",
              "      var key = `${lib.replace(\"-\", \"\")}_version`;\n",
              "      return (VEGA_DEBUG[key] == version) ?\n",
              "        Promise.resolve(paths[lib]) :\n",
              "        new Promise(function(resolve, reject) {\n",
              "          var s = document.createElement('script');\n",
              "          document.getElementsByTagName(\"head\")[0].appendChild(s);\n",
              "          s.async = true;\n",
              "          s.onload = () => {\n",
              "            VEGA_DEBUG[key] = version;\n",
              "            return resolve(paths[lib]);\n",
              "          };\n",
              "          s.onerror = () => reject(`Error loading script: ${paths[lib]}`);\n",
              "          s.src = paths[lib];\n",
              "        });\n",
              "    }\n",
              "\n",
              "    function showError(err) {\n",
              "      outputDiv.innerHTML = `<div class=\"error\" style=\"color:red;\">${err}</div>`;\n",
              "      throw err;\n",
              "    }\n",
              "\n",
              "    function displayChart(vegaEmbed) {\n",
              "      vegaEmbed(outputDiv, spec, embedOpt)\n",
              "        .catch(err => showError(`Javascript Error: ${err.message}<br>This usually means there's a typo in your chart specification. See the javascript console for the full traceback.`));\n",
              "    }\n",
              "\n",
              "    if(typeof define === \"function\" && define.amd) {\n",
              "      requirejs.config({paths});\n",
              "      let deps = [\"vega-embed\"];\n",
              "      require(deps, displayChart, err => showError(`Error loading script: ${err.message}`));\n",
              "    } else {\n",
              "      maybeLoadScript(\"vega\", \"5\")\n",
              "        .then(() => maybeLoadScript(\"vega-lite\", \"5.20.1\"))\n",
              "        .then(() => maybeLoadScript(\"vega-embed\", \"6\"))\n",
              "        .catch(showError)\n",
              "        .then(() => displayChart(vegaEmbed));\n",
              "    }\n",
              "  })({\"config\": {\"view\": {\"continuousWidth\": 300, \"continuousHeight\": 300}}, \"data\": {\"name\": \"data-e6bfb0ed4fb7085cd23e94f4d7f40764\"}, \"mark\": {\"type\": \"bar\", \"size\": 40}, \"encoding\": {\"color\": {\"field\": \"Programa\", \"legend\": null, \"type\": \"nominal\"}, \"x\": {\"field\": \"Denuncias\", \"title\": \"Cantidad de denuncias\", \"type\": \"quantitative\"}, \"y\": {\"field\": \"Programa\", \"sort\": \"-x\", \"title\": \"Programa\", \"type\": \"nominal\"}}, \"height\": 300, \"title\": \"Top 5 programas m\\u00e1s denunciados (2012\\u20132022)\", \"width\": 700, \"$schema\": \"https://vega.github.io/schema/vega-lite/v5.20.1.json\", \"datasets\": {\"data-e6bfb0ed4fb7085cd23e94f4d7f40764\": [{\"Programa\": \"Teletrece Central (2022)\", \"Denuncias\": 4158}, {\"Programa\": \"Mucho Gusto (2020)\", \"Denuncias\": 2566}, {\"Programa\": \"24 Horas Central (2019)\", \"Denuncias\": 1901}, {\"Programa\": \"Mi Barrio (2021)\", \"Denuncias\": 1839}, {\"Programa\": \"Teletrece AM (2020)\", \"Denuncias\": 1622}]}}, {\"mode\": \"vega-lite\"});\n",
              "</script>"
            ],
            "text/plain": [
              "alt.Chart(...)"
            ]
          },
          "metadata": {},
          "execution_count": 1
        }
      ],
      "source": [
        "import pandas as pd\n",
        "import altair as alt\n",
        "\n",
        "# Datos de los 5 casos clave\n",
        "data = pd.DataFrame({\n",
        "    'Programa': [\n",
        "        'Teletrece Central (2022)',\n",
        "        'Mucho Gusto (2020)',\n",
        "        '24 Horas Central (2019)',\n",
        "        'Mi Barrio (2021)',\n",
        "        'Teletrece AM (2020)'\n",
        "    ],\n",
        "    'Denuncias': [4158, 2566, 1901, 1839, 1622]\n",
        "})\n",
        "\n",
        "# Crear gráfico de barras\n",
        "chart = alt.Chart(data).mark_bar(size=40).encode(\n",
        "    x=alt.X('Denuncias:Q', title='Cantidad de denuncias'),\n",
        "    y=alt.Y('Programa:N', sort='-x', title='Programa'),\n",
        "    color=alt.Color('Programa:N', legend=None)\n",
        ").properties(\n",
        "    width=700,\n",
        "    height=300,\n",
        "    title='Top 5 programas más denunciados (2012–2022)'\n",
        ")\n",
        "\n",
        "chart\n"
      ]
    }
  ]
}